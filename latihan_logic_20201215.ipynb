{
 "cells": [
  {
   "cell_type": "markdown",
   "metadata": {},
   "source": [
    "*** Part 1"
   ]
  },
  {
   "cell_type": "code",
   "execution_count": 5,
   "metadata": {},
   "outputs": [
    {
     "name": "stdout",
     "output_type": "stream",
     "text": [
      "Hello World\n"
     ]
    }
   ],
   "source": [
    "#Latihan print Hello World\n",
    "print ('Hello World')"
   ]
  },
  {
   "cell_type": "code",
   "execution_count": 11,
   "metadata": {},
   "outputs": [
    {
     "name": "stdout",
     "output_type": "stream",
     "text": [
      "nurul tyas\n"
     ]
    }
   ],
   "source": [
    "#Latihan Logic\n",
    "umur = 15\n",
    "nama = \"nurul\"\n",
    "#nama = \"nu\" \n",
    "nama_panjang = \"nurul tyas\"\n",
    "if umur%2 == 0:\n",
    "    print(nama)\n",
    "elif len (nama) >= 3:\n",
    "    print(nama)\n",
    "else:\n",
    "    print(nama_panjang)"
   ]
  },
  {
   "cell_type": "code",
   "execution_count": 4,
   "metadata": {},
   "outputs": [
    {
     "name": "stdout",
     "output_type": "stream",
     "text": [
      "1\n",
      "2\n",
      "3\n",
      "4\n",
      "5\n",
      "6\n",
      "7\n",
      "8\n",
      "9\n",
      "10\n",
      "11\n",
      "12\n",
      "13\n",
      "14\n",
      "15\n",
      "16\n",
      "17\n",
      "18\n"
     ]
    }
   ],
   "source": [
    "#print angka yang terus bertambah sebanyak 1, sampai total\n",
    "#dari nama panjang kita\n",
    "\n",
    "nama = \"nurultyasrahmadani\"\n",
    "total_nama = len(nama)\n",
    "a = 1\n",
    "while a <= total_nama:\n",
    "    print(a)\n",
    "    a = a+1\n"
   ]
  },
  {
   "cell_type": "code",
   "execution_count": null,
   "metadata": {},
   "outputs": [],
   "source": [
    "#apabila ada 2 list, print data di dalam list tersebut apabila data di kedua list adalah sama\n",
    "#apabila berbeda maka akan melakukan print nama kita sebanyak angka di dalam data yg di list pertama"
   ]
  },
  {
   "cell_type": "code",
   "execution_count": 20,
   "metadata": {},
   "outputs": [
    {
     "ename": "IndentationError",
     "evalue": "unexpected indent (<ipython-input-20-446438edd8c4>, line 10)",
     "output_type": "error",
     "traceback": [
      "\u001b[1;36m  File \u001b[1;32m\"<ipython-input-20-446438edd8c4>\"\u001b[1;36m, line \u001b[1;32m10\u001b[0m\n\u001b[1;33m    while x <= list1[i]:\u001b[0m\n\u001b[1;37m    ^\u001b[0m\n\u001b[1;31mIndentationError\u001b[0m\u001b[1;31m:\u001b[0m unexpected indent\n"
     ]
    }
   ],
   "source": [
    "list1 = [1,2,3,4]\n",
    "list2 = [5,2,1,3]\n",
    "nama = \"nurul\"\n",
    "\n",
    "for i in range (len(list1)):\n",
    "    if list1[i] == list2[i]:\n",
    "        print(list[i])\n",
    "    else:\n",
    "        x = 0\n",
    "         while x <= list1[i]:\n",
    "            print(nama)\n",
    "            x = x+1"
   ]
  },
  {
   "cell_type": "code",
   "execution_count": null,
   "metadata": {},
   "outputs": [],
   "source": []
  }
 ],
 "metadata": {
  "kernelspec": {
   "display_name": "Python 3",
   "language": "python",
   "name": "python3"
  },
  "language_info": {
   "codemirror_mode": {
    "name": "ipython",
    "version": 3
   },
   "file_extension": ".py",
   "mimetype": "text/x-python",
   "name": "python",
   "nbconvert_exporter": "python",
   "pygments_lexer": "ipython3",
   "version": "3.8.5"
  }
 },
 "nbformat": 4,
 "nbformat_minor": 4
}
